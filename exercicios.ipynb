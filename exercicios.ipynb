{
 "cells": [
  {
   "cell_type": "markdown",
   "id": "0a5185f1",
   "metadata": {},
   "source": [
    "# Exercícios do Minicurso\n",
    "\n",
    "## Quadro-resumo dos exercícios\n",
    "\n",
    "| Notebook               | Título do Exercício                                    | Objetivo Didático                                                                 |\n",
    "|------------------------|--------------------------------------------------------|-----------------------------------------------------------------------------------|\n",
    "| `basico.ipynb`         | Municípios prioritários para políticas públicas        | Filtrar e ordenar municípios com base em renda e número de famílias               |\n",
    "| `joins.ipynb`          | Infos Municípios prioritários para políticas públicas  | Adicionar as informações do município                                             |\n",
    "| `with_clause.ipynb`    | Mapeamento de famílias vulneráveis por município       | Cruzar tabelas e agregar famílias por município e perfil de instrução e renda     |\n",
    "| `window_functions.ipynb` | Desigualdade de renda dentro das regiões             | Usar funções de janela para classificar as regiões por desilgualdade              |\n",
    "\n",
    "---\n",
    "\n",
    "## Detalhamento dos exercícios\n",
    "\n",
    "### `basico.ipynb` – Municípios prioritários para políticas públicas\n",
    "\n",
    "Liste os **10 municípios** onde:\n",
    "- a **renda média familiar** é inferior a R$ 200, e  \n",
    "- há mais de 50 famílias cadastradas.\n",
    "\n",
    "Mostre:\n",
    "- `cd_ibge`, `renda_media`, `total_familias`  \n",
    "Ordene do menor para o maior valor médio de renda.\n",
    "\n",
    "---\n",
    "\n",
    "### `joins.ipynb` – Infos Municípios prioritários para políticas públicas\n",
    "\n",
    "Liste os **10 municípios** onde:\n",
    "- a **renda média familiar** é inferior a R$ 200, e  \n",
    "- há mais de 50 famílias cadastradas.\n",
    "- utilize a tabela de informações municípios do IBGE\n",
    "\n",
    "Mostre:\n",
    "- `municipio`, `uf`, `regiao`, `total_familias_em_risco`  \n",
    "Ordene do menor para o maior valor médio de renda.\n",
    "\n",
    "---\n",
    "\n",
    "### `with_clause.ipynb` – Mapeamento de famílias vulneráveis por município\n",
    "\n",
    "Liste os **10 municípios** com o maior número de famílias que:\n",
    "- possuem **renda média familiar inferior a R$ 200**, e  \n",
    "- têm **ao menos uma pessoa sem instrução formal** (`cod_curso_frequentou_pessoa_memb`).\n",
    "\n",
    "Mostre:\n",
    "- `municipio`, `uf`, `regiao`, `total_familias`  \n",
    "Ordene pelo maior número de famílias em risco.\n",
    "\n",
    "---\n",
    "\n",
    "### `window_functions.ipynb` – Desigualdade de renda dentro das regiões\n",
    "\n",
    "Calcule a média de renda das famílias por região\n",
    "- 10% que recebem menos\n",
    "- 10% que recebem mais\n",
    "- diferença entre as médias\n",
    "\n",
    "Mostre:\n",
    "- `regiao`, `b_10`, `t_10`, `desigualdade`  \n",
    "Ordene pela maior desigualdade.\n"
   ]
  },
  {
   "cell_type": "markdown",
   "id": "9181fe19",
   "metadata": {},
   "source": [
    "# Resolução"
   ]
  },
  {
   "cell_type": "code",
   "execution_count": null,
   "id": "ec30b8d0",
   "metadata": {},
   "outputs": [],
   "source": [
    "from common import DatabaseConnection\n",
    "\n",
    "conn = DatabaseConnection(\"database.duckdb\")"
   ]
  },
  {
   "cell_type": "code",
   "execution_count": null,
   "id": "643edc7c",
   "metadata": {},
   "outputs": [],
   "source": [
    "conn.execute(\"\"\"\n",
    "    SELECT\n",
    "        *\n",
    "    FROM familias\n",
    "    LIMIT 10;\n",
    "\"\"\")"
   ]
  },
  {
   "cell_type": "code",
   "execution_count": null,
   "id": "8ef8c0b9",
   "metadata": {},
   "outputs": [],
   "source": [
    "conn.execute(\"\"\"\n",
    "    SELECT\n",
    "        *\n",
    "    FROM pessoas\n",
    "    LIMIT 10;\n",
    "\"\"\")"
   ]
  },
  {
   "cell_type": "code",
   "execution_count": null,
   "id": "9431403d",
   "metadata": {},
   "outputs": [],
   "source": [
    "conn.execute(\"\"\"\n",
    "    SELECT\n",
    "        *\n",
    "    FROM ibge_municipios\n",
    "    LIMIT 10;\n",
    "\"\"\")"
   ]
  },
  {
   "cell_type": "markdown",
   "id": "d75388fe",
   "metadata": {},
   "source": [
    "# 1 - Municípios prioritários para políticas públicas"
   ]
  },
  {
   "cell_type": "code",
   "execution_count": null,
   "id": "25dace69",
   "metadata": {},
   "outputs": [],
   "source": [
    "conn.execute(\"\"\"\n",
    "    SELECT\n",
    "        cd_ibge,\n",
    "        AVG(vlr_renda_media_fam) AS renda_media,\n",
    "        COUNT(*) AS total_familias\n",
    "    FROM familias\n",
    "    GROUP BY cd_ibge\n",
    "    HAVING total_familias > 50 and renda_media < 200\n",
    "    ORDER BY renda_media\n",
    "    LIMIT 10;\n",
    "\"\"\")"
   ]
  },
  {
   "cell_type": "markdown",
   "id": "6bbb5fdc",
   "metadata": {},
   "source": [
    "# 2 - Informações dos municípios prioritários para políticas públicas"
   ]
  },
  {
   "cell_type": "code",
   "execution_count": null,
   "id": "ba216389",
   "metadata": {},
   "outputs": [],
   "source": [
    "conn.execute(\"\"\"\n",
    "    SELECT\n",
    "        m.\"municipio-nome\" AS municipio,\n",
    "        m.\"UF-sigla\" AS uf,\n",
    "        m.\"regiao-nome\" AS regiao,\n",
    "        AVG(f.vlr_renda_media_fam) AS renda_media,\n",
    "        COUNT(f.*) AS total_familias\n",
    "    FROM familias as f\n",
    "    JOIN ibge_municipios as m ON f.cd_ibge = m.\"municipio-id\"\n",
    "    GROUP BY m.\"municipio-nome\", m.\"UF-sigla\", m.\"regiao-nome\"\n",
    "    HAVING total_familias > 50 and renda_media < 200\n",
    "    ORDER BY renda_media\n",
    "    LIMIT 10;\n",
    "\"\"\")"
   ]
  },
  {
   "cell_type": "markdown",
   "id": "32c998f1",
   "metadata": {},
   "source": [
    "# 3 - Mapeamento de famílias vulneráveis por município"
   ]
  },
  {
   "cell_type": "code",
   "execution_count": null,
   "id": "e826b6f0",
   "metadata": {},
   "outputs": [],
   "source": [
    "conn.execute(\"\"\"\n",
    "    SELECT\n",
    "        id_familia,\n",
    "        id_pessoa,\n",
    "        CASE\n",
    "            WHEN cod_curso_frequentou_pessoa_memb = 15 THEN 0\n",
    "            WHEN cod_curso_frequentou_pessoa_memb is NULL THEN 0\n",
    "            ELSE 1\n",
    "        END AS frequentou_curso,\n",
    "    FROM pessoas\n",
    "    LIMIT 10;\n",
    "\"\"\")"
   ]
  },
  {
   "cell_type": "code",
   "execution_count": null,
   "id": "5d49126d",
   "metadata": {},
   "outputs": [],
   "source": [
    "conn.execute(\"\"\"\n",
    "    WITH frequentou_curso AS (\n",
    "        SELECT\n",
    "            id_familia,\n",
    "            id_pessoa,\n",
    "            CASE\n",
    "                WHEN cod_curso_frequentou_pessoa_memb = 15 THEN 0\n",
    "                WHEN cod_curso_frequentou_pessoa_memb is NULL THEN 0\n",
    "                ELSE 1\n",
    "            END AS frequentou_curso,\n",
    "        FROM pessoas\n",
    "    )\n",
    "    SELECT\n",
    "        m.\"municipio-nome\" AS municipio,\n",
    "        m.\"UF-sigla\" AS uf,\n",
    "        m.\"regiao-nome\" AS regiao,\n",
    "        AVG(f.vlr_renda_media_fam) AS renda_media,\n",
    "        COUNT(f.*) AS total_familias\n",
    "    FROM familias AS f\n",
    "    JOIN frequentou_curso AS fc ON f.id_familia = fc.id_familia\n",
    "    JOIN ibge_municipios as m ON f.cd_ibge = m.\"municipio-id\"\n",
    "    WHERE fc.frequentou_curso = 0\n",
    "    GROUP BY ALL\n",
    "    HAVING renda_media < 200\n",
    "    ORDER BY total_familias DESC\n",
    "    LIMIT 10;\n",
    "\"\"\")"
   ]
  },
  {
   "cell_type": "markdown",
   "id": "0a33650e",
   "metadata": {},
   "source": [
    "# 4 - Desigualdade de renda entre as regiões"
   ]
  },
  {
   "cell_type": "code",
   "execution_count": null,
   "id": "5b7320e8",
   "metadata": {},
   "outputs": [],
   "source": [
    "conn.execute(\"\"\"\n",
    "    SELECT\n",
    "        f.vlr_renda_media_fam AS renda,\n",
    "        m.\"regiao-nome\" AS regiao,\n",
    "        NTILE(10) OVER (PARTITION BY regiao ORDER BY renda) AS decil\n",
    "    FROM familias f\n",
    "    JOIN ibge_municipios m ON f.cd_ibge = m.\"municipio-id\"\n",
    "    WHERE f.vlr_renda_media_fam IS NOT NULL\n",
    "    ORDER BY decil\n",
    "\"\"\")"
   ]
  },
  {
   "cell_type": "code",
   "execution_count": null,
   "id": "efa2f52e",
   "metadata": {},
   "outputs": [],
   "source": [
    "conn.execute(\"\"\"\n",
    "    WITH renda_decil AS (\n",
    "        SELECT\n",
    "            f.vlr_renda_media_fam AS renda,\n",
    "            m.\"regiao-nome\" AS regiao,\n",
    "            NTILE(3) OVER (PARTITION BY regiao ORDER BY renda) AS decil\n",
    "        FROM familias f\n",
    "        JOIN ibge_municipios m ON f.cd_ibge = m.\"municipio-id\"\n",
    "        WHERE f.vlr_renda_media_fam IS NOT NULL\n",
    "    ), media_decil AS (\n",
    "        SELECT\n",
    "            regiao,\n",
    "            AVG(CASE WHEN decil = 1 THEN renda END) AS b_10,\n",
    "            AVG(CASE WHEN decil = 3 THEN renda END) AS t_10\n",
    "        FROM renda_decil\n",
    "        GROUP BY regiao\n",
    "    )\n",
    "    SELECT\n",
    "        regiao,\n",
    "        ROUND(b_10, 2) AS b_10,\n",
    "        ROUND(t_10, 2) AS t_10,\n",
    "        ROUND(t_10 - b_10, 2) AS desigualdade\n",
    "    FROM media_decil\n",
    "    ORDER BY desigualdade DESC;\n",
    "\"\"\")"
   ]
  },
  {
   "cell_type": "markdown",
   "id": "5b092ef5",
   "metadata": {},
   "source": [
    "# Criando Gráficos"
   ]
  },
  {
   "cell_type": "code",
   "execution_count": null,
   "id": "565176b7",
   "metadata": {},
   "outputs": [],
   "source": [
    "import matplotlib.pyplot as plt\n",
    "import seaborn as sns\n",
    "\n",
    "CLASSES = 7\n",
    "\n",
    "desigualdade_df = conn.execute(\"\"\"\n",
    "    WITH renda_classe AS (\n",
    "        SELECT\n",
    "            f.vlr_renda_media_fam AS renda,\n",
    "            m.\"UF-sigla\" AS UF,\n",
    "            NTILE({classes}) OVER (PARTITION BY UF ORDER BY renda) AS classe\n",
    "        FROM familias f\n",
    "        JOIN ibge_municipios m ON f.cd_ibge = m.\"municipio-id\"\n",
    "        WHERE f.vlr_renda_media_fam IS NOT NULL\n",
    "    ), media_classe AS (\n",
    "        SELECT\n",
    "            UF,\n",
    "            AVG(CASE WHEN classe = 1 THEN renda END) AS b_{classes},\n",
    "            AVG(CASE WHEN classe = {classes} THEN renda END) AS t_{classes}\n",
    "        FROM renda_classe\n",
    "        GROUP BY UF\n",
    "    )\n",
    "    SELECT\n",
    "        UF,\n",
    "        ROUND(b_{classes}, 2) AS b_{classes},\n",
    "        ROUND(t_{classes}, 2) AS t_{classes},\n",
    "        ROUND(t_{classes} - b_{classes}, 2) AS desigualdade\n",
    "    FROM media_classe\n",
    "    ORDER BY desigualdade DESC;\n",
    "\"\"\".format(classes=CLASSES))\n",
    "\n",
    "display(desigualdade_df)\n",
    "\n",
    "plt.figure(figsize=(12, 6))\n",
    "sns.barplot(x='UF', y='desigualdade', data=desigualdade_df)\n",
    "plt.title(f'Desigualdade de Renda por UF ({CLASSES} Classes)')\n",
    "plt.xlabel('Região')\n",
    "plt.ylabel('Desigualdade (Renda do Topo - Renda de Baixo)')\n",
    "plt.xticks(rotation=45)\n",
    "plt.tight_layout()\n",
    "plt.show()"
   ]
  },
  {
   "cell_type": "markdown",
   "id": "62818e2b",
   "metadata": {},
   "source": [
    "# Salvando Arquivos"
   ]
  },
  {
   "cell_type": "code",
   "execution_count": null,
   "id": "d92f52a3",
   "metadata": {},
   "outputs": [],
   "source": [
    "CLASSES = 10\n",
    "\n",
    "conn.execute(f\"\"\"\n",
    "    COPY (\n",
    "        WITH renda_classe AS (\n",
    "            SELECT\n",
    "                f.vlr_renda_media_fam AS renda,\n",
    "                m.\"UF-sigla\" AS UF,\n",
    "                NTILE({CLASSES}) OVER (PARTITION BY UF ORDER BY renda) AS classe\n",
    "            FROM familias f\n",
    "            JOIN ibge_municipios m ON f.cd_ibge = m.\"municipio-id\"\n",
    "            WHERE f.vlr_renda_media_fam IS NOT NULL\n",
    "        ), media_classe AS (\n",
    "            SELECT\n",
    "                UF,\n",
    "                AVG(CASE WHEN classe = 1 THEN renda END) AS b_{CLASSES},\n",
    "                AVG(CASE WHEN classe = {CLASSES} THEN renda END) AS t_{CLASSES}\n",
    "            FROM renda_classe\n",
    "            GROUP BY UF\n",
    "        )\n",
    "        SELECT\n",
    "            UF,\n",
    "            ROUND(b_{CLASSES}, 2) AS b_{CLASSES},\n",
    "            ROUND(t_{CLASSES}, 2) AS t_{CLASSES},\n",
    "            ROUND(t_{CLASSES} - b_{CLASSES}, 2) AS desigualdade\n",
    "        FROM media_classe\n",
    "        ORDER BY desigualdade DESC\n",
    "    ) TO 'desigualdade_renda_uf.csv' WITH (FORMAT CSV, HEADER);\n",
    "\"\"\")"
   ]
  }
 ],
 "metadata": {
  "kernelspec": {
   "display_name": "Python 3",
   "language": "python",
   "name": "python3"
  },
  "language_info": {
   "codemirror_mode": {
    "name": "ipython",
    "version": 3
   },
   "file_extension": ".py",
   "mimetype": "text/x-python",
   "name": "python",
   "nbconvert_exporter": "python",
   "pygments_lexer": "ipython3",
   "version": "3.13.3"
  }
 },
 "nbformat": 4,
 "nbformat_minor": 5
}
