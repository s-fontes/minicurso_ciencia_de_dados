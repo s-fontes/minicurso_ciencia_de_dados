{
 "cells": [
  {
   "cell_type": "code",
   "execution_count": 1,
   "id": "f366f3dc",
   "metadata": {},
   "outputs": [],
   "source": [
    "from common import ingest_ibge_data, ingest_cad_unico_data, ingest_data_dictionary"
   ]
  },
  {
   "cell_type": "code",
   "execution_count": 2,
   "id": "9a46903c",
   "metadata": {},
   "outputs": [
    {
     "name": "stderr",
     "output_type": "stream",
     "text": [
      "2025-06-26 22:13:56,532 - INFO - Ingesting IBGE data...\n",
      "2025-06-26 22:13:56,535 - INFO - Downloading IBGE data...\n",
      "2025-06-26 22:13:57,676 - INFO - IBGE data downloaded successfully.\n",
      "2025-06-26 22:13:57,789 - INFO - Connected to database: database.duckdb\n",
      "2025-06-26 22:13:57,820 - INFO - Executing query...\n",
      "2025-06-26 22:13:58,389 - INFO - Query executed successfully\n",
      "2025-06-26 22:13:58,432 - INFO - IBGE data ingested successfully.\n"
     ]
    }
   ],
   "source": [
    "ingest_ibge_data()"
   ]
  },
  {
   "cell_type": "code",
   "execution_count": 3,
   "id": "4518107a",
   "metadata": {},
   "outputs": [
    {
     "name": "stderr",
     "output_type": "stream",
     "text": [
      "2025-06-26 22:13:58,442 - INFO - Ingesting CAD Unico data...\n",
      "2025-06-26 22:13:58,445 - INFO - Downloading CAD Unico data...\n",
      "2025-06-26 22:13:59,221 - INFO - CAD Unico data downloaded successfully.\n",
      "2025-06-26 22:13:59,222 - INFO - Saving CAD Unico data to disk...\n",
      "2025-06-26 22:20:34,790 - INFO - CAD Unico data saved successfully.\n",
      "2025-06-26 22:20:34,794 - INFO - Extracting CAD Unico data...\n",
      "2025-06-26 22:21:09,132 - INFO - CAD Unico data extracted successfully.\n",
      "2025-06-26 22:21:09,154 - INFO - Cleaning CAD Unico CSV files...\n",
      "2025-06-26 22:21:09,161 - INFO - Cleaning CSV file: data/base_amostra_cad_201812/base_amostra_pessoa_201812.csv\n",
      "2025-06-26 22:21:09,162 - INFO - Cleaning CSV file: data/base_amostra_cad_201812/base_amostra_familia_201812.csv\n",
      "2025-06-26 22:24:48,976 - INFO - CSV file cleaned successfully: data/base_amostra_cad_201812/base_amostra_familia_201812.csv\n",
      "2025-06-26 22:26:46,216 - INFO - CSV file cleaned successfully: data/base_amostra_cad_201812/base_amostra_pessoa_201812.csv\n",
      "2025-06-26 22:26:46,219 - INFO - CAD Unico CSV files cleaned successfully.\n",
      "2025-06-26 22:26:46,343 - INFO - Connected to database: database.duckdb\n",
      "2025-06-26 22:26:46,366 - INFO - Executing query...\n"
     ]
    },
    {
     "data": {
      "application/vnd.jupyter.widget-view+json": {
       "model_id": "fc8c68d1dd31457b877b3c3fd42dceab",
       "version_major": 2,
       "version_minor": 0
      },
      "text/plain": [
       "FloatProgress(value=0.0, layout=Layout(width='auto'), style=ProgressStyle(bar_color='black'))"
      ]
     },
     "metadata": {},
     "output_type": "display_data"
    },
    {
     "name": "stderr",
     "output_type": "stream",
     "text": [
      "2025-06-26 22:27:23,434 - INFO - Query executed successfully\n",
      "2025-06-26 22:27:23,543 - INFO - Executing query...\n"
     ]
    },
    {
     "data": {
      "application/vnd.jupyter.widget-view+json": {
       "model_id": "25da462b803a40b9842ce1cf8b685996",
       "version_major": 2,
       "version_minor": 0
      },
      "text/plain": [
       "FloatProgress(value=0.0, layout=Layout(width='auto'), style=ProgressStyle(bar_color='black'))"
      ]
     },
     "metadata": {},
     "output_type": "display_data"
    },
    {
     "name": "stderr",
     "output_type": "stream",
     "text": [
      "2025-06-26 22:27:37,876 - INFO - Query executed successfully\n",
      "2025-06-26 22:27:37,927 - INFO - CAD Unico data ingested successfully.\n"
     ]
    }
   ],
   "source": [
    "ingest_cad_unico_data()"
   ]
  },
  {
   "cell_type": "code",
   "execution_count": 4,
   "id": "ae8642df",
   "metadata": {},
   "outputs": [
    {
     "name": "stderr",
     "output_type": "stream",
     "text": [
      "2025-06-26 22:27:38,204 - INFO - Ingesting CAD Unico data dictionary...\n",
      "2025-06-26 22:27:38,208 - INFO - Downloading data dictionary...\n",
      "2025-06-26 22:27:40,347 - INFO - Data dictionary downloaded successfully.\n",
      "2025-06-26 22:27:40,350 - INFO - Cleaning Excel file: data/Dicionario_base_identificada_pt_R03.xlsx\n",
      "2025-06-26 22:27:48,559 - INFO - Excel file cleaned successfully: data/Dicionario_base_identificada_pt_R03.xlsx\n"
     ]
    }
   ],
   "source": [
    "ingest_data_dictionary()"
   ]
  }
 ],
 "metadata": {
  "kernelspec": {
   "display_name": "Python 3",
   "language": "python",
   "name": "python3"
  },
  "language_info": {
   "codemirror_mode": {
    "name": "ipython",
    "version": 3
   },
   "file_extension": ".py",
   "mimetype": "text/x-python",
   "name": "python",
   "nbconvert_exporter": "python",
   "pygments_lexer": "ipython3",
   "version": "3.13.3"
  }
 },
 "nbformat": 4,
 "nbformat_minor": 5
}
